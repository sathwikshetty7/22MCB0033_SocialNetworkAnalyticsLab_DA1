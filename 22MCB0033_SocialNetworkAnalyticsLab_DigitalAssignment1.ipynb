{
  "nbformat": 4,
  "nbformat_minor": 0,
  "metadata": {
    "colab": {
      "provenance": []
    },
    "kernelspec": {
      "name": "python3",
      "display_name": "Python 3"
    },
    "language_info": {
      "name": "python"
    }
  },
  "cells": [
    {
      "cell_type": "code",
      "execution_count": null,
      "metadata": {
        "id": "dTpP8JuFE5Ji"
      },
      "outputs": [],
      "source": [
        "import networkx as nx\n",
        "import pandas as pd\n",
        "import numpy as np\n",
        "from matplotlib import pyplot as plt \n",
        "%matplotlib inline"
      ]
    },
    {
      "cell_type": "code",
      "source": [
        "dataset = 'data1.csv'"
      ],
      "metadata": {
        "id": "0kVR86URFXyZ"
      },
      "execution_count": null,
      "outputs": []
    },
    {
      "cell_type": "code",
      "source": [
        "G = nx.Graph()"
      ],
      "metadata": {
        "id": "V3Wzzf4yGTru"
      },
      "execution_count": null,
      "outputs": []
    },
    {
      "cell_type": "code",
      "source": [
        "def graph_built_undirected(dataset):\n",
        "  df = pd.read_csv(dataset)\n",
        "  edges=[]\n",
        "  for i in range(len(df)):\n",
        "    edges.append((df.Source[i],df.Destination[i],int(df.Weight[i])))\n",
        "\n",
        "  G.add_weighted_edges_from(edges)\n",
        "  edge_labels = nx.get_edge_attributes(G, \"weight\")\n",
        "  # getting different graph attributes\n",
        "  print(\"Total number of nodes: \", int(G.number_of_nodes()))\n",
        "  print(\"Total number of edges: \", int(G.number_of_edges()))\n",
        "  print(\"List of all nodes: \", list(G.nodes()))\n",
        "  print(\"List of all edges: \", list(G.edges()))\n",
        "  print(\"Degree for all nodes: \", dict(G.degree()))\n",
        "  print(\"Maximum Degree Node: \", max(zip(dict(G.degree()).values(), dict(G.degree()).keys()))[1])\n",
        "  print(\"Minimum Degree Node: \", min(zip(dict(G.degree()).values(), dict(G.degree()).keys()))[1])\n",
        "  nx.draw_networkx(G, with_labels = True)\n",
        "  plt.savefig(\"Undirected_Graph.png\", format=\"PNG\")\n",
        "  "
      ],
      "metadata": {
        "id": "U3rTcbW3GnVb"
      },
      "execution_count": null,
      "outputs": []
    },
    {
      "cell_type": "code",
      "source": [
        "graph_built_undirected(dataset)"
      ],
      "metadata": {
        "colab": {
          "base_uri": "https://localhost:8080/",
          "height": 527
        },
        "id": "Nh4LAnfNGruY",
        "outputId": "5544f425-5e22-4d37-b5fe-240b4c9ca472"
      },
      "execution_count": null,
      "outputs": [
        {
          "output_type": "stream",
          "name": "stdout",
          "text": [
            "Total number of nodes:  6\n",
            "Total number of edges:  8\n",
            "List of all nodes:  [1, 4, 2, 0, 3, 5]\n",
            "List of all edges:  [(1, 4), (1, 2), (1, 5), (1, 1), (4, 2), (2, 0), (0, 3), (3, 5)]\n",
            "Degree for all nodes:  {1: 5, 4: 2, 2: 3, 0: 2, 3: 2, 5: 2}\n",
            "Maximum Degree Node:  1\n",
            "Minimum Degree Node:  0\n"
          ]
        },
        {
          "output_type": "display_data",
          "data": {
            "text/plain": [
              "<Figure size 640x480 with 1 Axes>"
            ],
            "image/png": "[encoded data removed]"
          },
          "metadata": {}
        }
      ]
    },
    {
      "cell_type": "code",
      "source": [
        "G2= nx.DiGraph()"
      ],
      "metadata": {
        "id": "iWdR1LXZIAR2"
      },
      "execution_count": null,
      "outputs": []
    },
    {
      "cell_type": "code",
      "source": [
        "def graph_built_directed(dataset):\n",
        "  edges=[]\n",
        "  df = pd.read_csv(dataset)\n",
        "  for i in range(len(df)):\n",
        "    edges.append((df.Source[i],df.Destination[i]))\n",
        "\n",
        "  G2.add_edges_from(edges)\n",
        "  # getting different graph attributes\n",
        "  print(\"Total number of nodes: \", int(G2.number_of_nodes()))\n",
        "  print(\"Total number of edges: \", int(G2.number_of_edges()))\n",
        "  print(\"List of all nodes: \", list(G2.nodes()))\n",
        "  print(\"List of all edges: \", list(G2.edges()))\n",
        "  print(\"In-degree for all nodes: \", dict(G2.in_degree()))  \n",
        "  print(\"Out degree for all nodes: \", dict(G2.out_degree))\n",
        "  #print(\"Max In Degree Node: \", max(zip(dict(G2.in_degree()).values(), dict(G2.in_degree()).keys()))[1])\n",
        "  #print(\"Min In Degree Node: \", min(zip(dict(G2.in_degree()).values(), dict(G2.in_degree()).keys()))[1])\n",
        "  #print(\"Max Out Degree Node: \", max(zip(dict(G2.out_degree()).values(), dict(G2.out_degree()).keys()))[1])\n",
        "  #print(\"Min Out Degree Node: \", min(zip(dict(G2.out_degree()).values(), dict(G2.out_degree()).keys()))[1])\n",
        "  nx.draw_networkx(G2, with_labels = True)\n",
        "  plt.savefig(\"Directed_Graph.png\", format=\"PNG\")"
      ],
      "metadata": {
        "id": "MXHkDkKiQ4iU"
      },
      "execution_count": null,
      "outputs": []
    },
    {
      "cell_type": "code",
      "source": [
        "graph_built_directed(dataset)"
      ],
      "metadata": {
        "colab": {
          "base_uri": "https://localhost:8080/",
          "height": 510
        },
        "id": "10TrTYMmRU8C",
        "outputId": "756571d9-45b8-408f-b015-57c6839e4c1e"
      },
      "execution_count": null,
      "outputs": [
        {
          "output_type": "stream",
          "name": "stdout",
          "text": [
            "Total number of nodes:  6\n",
            "Total number of edges:  9\n",
            "List of all nodes:  [1, 4, 2, 0, 3, 5]\n",
            "List of all edges:  [(1, 4), (1, 1), (4, 2), (2, 1), (2, 0), (0, 3), (0, 2), (3, 5), (5, 1)]\n",
            "In-degree for all nodes:  {1: 3, 4: 1, 2: 2, 0: 1, 3: 1, 5: 1}\n",
            "Out degree for all nodes:  {1: 2, 4: 1, 2: 2, 0: 2, 3: 1, 5: 1}\n"
          ]
        },
        {
          "output_type": "display_data",
          "data": {
            "text/plain": [
              "<Figure size 640x480 with 1 Axes>"
            ],
            "image/png": "[encoded data removed]"
          },
          "metadata": {}
        }
      ]
    },
    {
      "cell_type": "code",
      "source": [
        "def undirected_Adj_matrix(G):\n",
        "  undirected_Adj_mat = nx.adjacency_matrix(G)\n",
        "  print(undirected_Adj_mat.todense())\n",
        "  udg_node = int(input(\"Enter Node: \"))\n",
        "  udg_sum = 0\n",
        "  for i in range(len(undirected_Adj_mat.todense()[udg_node])):\n",
        "    udg_sum = udg_sum +  int(undirected_Adj_mat.todense()[udg_node][i])\n",
        "  print(f\"Sum for Node {udg_node} is {udg_sum}\")"
      ],
      "metadata": {
        "id": "17ThjgVDRYpb"
      },
      "execution_count": null,
      "outputs": []
    },
    {
      "cell_type": "code",
      "source": [
        "undirected_Adj_matrix(G)"
      ],
      "metadata": {
        "colab": {
          "base_uri": "https://localhost:8080/"
        },
        "id": "0hwDIvyMRgVm",
        "outputId": "7525cf6d-8e4f-4b80-e880-a3efd4777fa3"
      },
      "execution_count": null,
      "outputs": [
        {
          "output_type": "stream",
          "name": "stdout",
          "text": [
            "[[0 3 1 0 0 5]\n",
            " [3 0 4 0 0 0]\n",
            " [1 4 0 1 0 0]\n",
            " [0 0 1 0 2 0]\n",
            " [0 0 0 2 0 2]\n",
            " [5 0 0 0 2 0]]\n",
            "Enter Node: 0\n",
            "Sum for Node 0 is 9\n"
          ]
        }
      ]
    },
    {
      "cell_type": "code",
      "source": [
        "def directed_Adj_matrix(G):\n",
        "  directed_Adj_mat = nx.adjacency_matrix(G2)\n",
        "  print(directed_Adj_mat.todense())\n",
        "\n",
        "  dg_node = int(input(\"Enter Node: \"))\n",
        "\n",
        "  dg_sum = 0\n",
        "  for i in range(len(directed_Adj_mat.todense()[dg_node])):\n",
        "    dg_sum = dg_sum +  int(directed_Adj_mat.todense()[dg_node][i])\n",
        "\n",
        "  for i in range(len(directed_Adj_mat.todense()[dg_node])):\n",
        "    dg_sum = dg_sum +  int(directed_Adj_mat.todense()[i][dg_node])\n",
        "   \n",
        "  print(f\"Sum for Node {dg_node} is {dg_sum}\")"
      ],
      "metadata": {
        "id": "ZerHOOeBRiCw"
      },
      "execution_count": null,
      "outputs": []
    },
    {
      "cell_type": "code",
      "source": [
        "directed_Adj_matrix(G2)"
      ],
      "metadata": {
        "colab": {
          "base_uri": "https://localhost:8080/"
        },
        "id": "9ipSgA0lRoJ-",
        "outputId": "bd0a3866-e901-4f6b-c021-feed6c15661b"
      },
      "execution_count": null,
      "outputs": [
        {
          "output_type": "stream",
          "name": "stdout",
          "text": [
            "[[1 1 0 0 0 0]\n",
            " [0 0 1 0 0 0]\n",
            " [1 0 0 1 0 0]\n",
            " [0 0 1 0 1 0]\n",
            " [0 0 0 0 0 1]\n",
            " [1 0 0 0 0 0]]\n",
            "Enter Node: 1\n",
            "Sum for Node 1 is 2\n"
          ]
        }
      ]
    },
    {
      "cell_type": "code",
      "source": [
        "def dict_round(s_r_dict):\n",
        "  s_r_dict = dict(sorted(s_r_dict.items()))\n",
        "  for key in s_r_dict:\n",
        "    s_r_dict[key] = round(s_r_dict[key], 2)\n",
        "  return s_r_dict"
      ],
      "metadata": {
        "id": "3I7oxM8FRqd9"
      },
      "execution_count": null,
      "outputs": []
    },
    {
      "cell_type": "markdown",
      "source": [
        "Undirected Graph"
      ],
      "metadata": {
        "id": "2BnqoKYQR0Rw"
      }
    },
    {
      "cell_type": "code",
      "source": [
        "deg_centrality = nx.degree_centrality(G)\n",
        "print(deg_centrality)\n",
        "udg_deg_centrality = dict_round(deg_centrality)\n",
        "print(udg_deg_centrality)"
      ],
      "metadata": {
        "colab": {
          "base_uri": "https://localhost:8080/"
        },
        "id": "evsiu7TNRyGS",
        "outputId": "f58fa709-4042-432a-cf37-c97c58f2f6bf"
      },
      "execution_count": null,
      "outputs": [
        {
          "output_type": "stream",
          "name": "stdout",
          "text": [
            "{1: 1.0, 4: 0.4, 2: 0.6000000000000001, 0: 0.4, 3: 0.4, 5: 0.4}\n",
            "{0: 0.4, 1: 1.0, 2: 0.6, 3: 0.4, 4: 0.4, 5: 0.4}\n"
          ]
        }
      ]
    },
    {
      "cell_type": "code",
      "source": [
        "closeness_centrality = nx.closeness_centrality(G)\n",
        "print(closeness_centrality)\n",
        "udg_closeness_centrality = dict_round(closeness_centrality)\n",
        "print(udg_closeness_centrality)"
      ],
      "metadata": {
        "colab": {
          "base_uri": "https://localhost:8080/"
        },
        "id": "GOlhGdeUR6M7",
        "outputId": "d2b0f341-7b79-45a6-86ed-b1cddb419517"
      },
      "execution_count": null,
      "outputs": [
        {
          "output_type": "stream",
          "name": "stdout",
          "text": [
            "{1: 0.7142857142857143, 4: 0.5555555555555556, 2: 0.7142857142857143, 0: 0.625, 3: 0.5555555555555556, 5: 0.625}\n",
            "{0: 0.62, 1: 0.71, 2: 0.71, 3: 0.56, 4: 0.56, 5: 0.62}\n"
          ]
        }
      ]
    },
    {
      "cell_type": "code",
      "source": [
        "betweeness_centrality = nx.closeness_centrality(G)\n",
        "print(betweeness_centrality)\n",
        "udg_betweeness_centrality = dict_round(betweeness_centrality)\n",
        "print(udg_betweeness_centrality)"
      ],
      "metadata": {
        "colab": {
          "base_uri": "https://localhost:8080/"
        },
        "id": "famHY7EUR8kM",
        "outputId": "e39d931e-a126-4181-a201-c103a295f473"
      },
      "execution_count": null,
      "outputs": [
        {
          "output_type": "stream",
          "name": "stdout",
          "text": [
            "{1: 0.7142857142857143, 4: 0.5555555555555556, 2: 0.7142857142857143, 0: 0.625, 3: 0.5555555555555556, 5: 0.625}\n",
            "{0: 0.62, 1: 0.71, 2: 0.71, 3: 0.56, 4: 0.56, 5: 0.62}\n"
          ]
        }
      ]
    },
    {
      "cell_type": "code",
      "source": [
        "eigen_vector_centrality = nx.eigenvector_centrality(G)\n",
        "print(eigen_vector_centrality)\n",
        "udg_eigen_vector_centrality = dict_round(eigen_vector_centrality)\n",
        "print(udg_eigen_vector_centrality)"
      ],
      "metadata": {
        "colab": {
          "base_uri": "https://localhost:8080/"
        },
        "id": "JaF9Pc3XR-Vg",
        "outputId": "e0980708-83ca-4157-c2de-54c94d668330"
      },
      "execution_count": null,
      "outputs": [
        {
          "output_type": "stream",
          "name": "stdout",
          "text": [
            "{1: 0.6577149283774613, 4: 0.40320751190658505, 2: 0.46582976382070757, 0: 0.23711912867641421, 3: 0.19490403001031745, 5: 0.3059809542630902}\n",
            "{0: 0.24, 1: 0.66, 2: 0.47, 3: 0.19, 4: 0.4, 5: 0.31}\n"
          ]
        }
      ]
    },
    {
      "cell_type": "code",
      "source": [
        "udf = pd.DataFrame.from_dict(udg_deg_centrality,orient='index',columns=['Degree_Centrality'])\n",
        "udf = udf.assign(Closeness_Centrality= udg_closeness_centrality.values())\n",
        "udf = udf.assign(Betweeness_Centrality= udg_betweeness_centrality.values())\n",
        "udf = udf.assign(Eigen_Vector_Centrality= udg_eigen_vector_centrality.values())"
      ],
      "metadata": {
        "id": "Dq18roT5R_xA"
      },
      "execution_count": null,
      "outputs": []
    },
    {
      "cell_type": "code",
      "source": [
        "udf"
      ],
      "metadata": {
        "colab": {
          "base_uri": "https://localhost:8080/",
          "height": 237
        },
        "id": "fychheuCSChM",
        "outputId": "18b8eada-29bc-4050-9ae8-186e38461f5f"
      },
      "execution_count": null,
      "outputs": [
        {
          "output_type": "execute_result",
          "data": {
            "text/plain": [
              "   Degree_Centrality  Closeness_Centrality  Betweeness_Centrality  \\\n",
              "0                0.4                  0.62                   0.62   \n",
              "1                1.0                  0.71                   0.71   \n",
              "2                0.6                  0.71                   0.71   \n",
              "3                0.4                  0.56                   0.56   \n",
              "4                0.4                  0.56                   0.56   \n",
              "5                0.4                  0.62                   0.62   \n",
              "\n",
              "   Eigen_Vector_Centrality  \n",
              "0                     0.24  \n",
              "1                     0.66  \n",
              "2                     0.47  \n",
              "3                     0.19  \n",
              "4                     0.40  \n",
              "5                     0.31  "
            ],
            "text/html": [
              "\n",
              "  <div id=\"df-22d76ce8-a5b3-425f-9d54-03cebcfbbd03\">\n",
              "    <div class=\"colab-df-container\">\n",
              "      <div>\n",
              "<style scoped>\n",
              "    .dataframe tbody tr th:only-of-type {\n",
              "        vertical-align: middle;\n",
              "    }\n",
              "\n",
              "    .dataframe tbody tr th {\n",
              "        vertical-align: top;\n",
              "    }\n",
              "\n",
              "    .dataframe thead th {\n",
              "        text-align: right;\n",
              "    }\n",
              "</style>\n",
              "<table border=\"1\" class=\"dataframe\">\n",
              "  <thead>\n",
              "    <tr style=\"text-align: right;\">\n",
              "      <th></th>\n",
              "      <th>Degree_Centrality</th>\n",
              "      <th>Closeness_Centrality</th>\n",
              "      <th>Betweeness_Centrality</th>\n",
              "      <th>Eigen_Vector_Centrality</th>\n",
              "    </tr>\n",
              "  </thead>\n",
              "  <tbody>\n",
              "    <tr>\n",
              "      <th>0</th>\n",
              "      <td>0.4</td>\n",
              "      <td>0.62</td>\n",
              "      <td>0.62</td>\n",
              "      <td>0.24</td>\n",
              "    </tr>\n",
              "    <tr>\n",
              "      <th>1</th>\n",
              "      <td>1.0</td>\n",
              "      <td>0.71</td>\n",
              "      <td>0.71</td>\n",
              "      <td>0.66</td>\n",
              "    </tr>\n",
              "    <tr>\n",
              "      <th>2</th>\n",
              "      <td>0.6</td>\n",
              "      <td>0.71</td>\n",
              "      <td>0.71</td>\n",
              "      <td>0.47</td>\n",
              "    </tr>\n",
              "    <tr>\n",
              "      <th>3</th>\n",
              "      <td>0.4</td>\n",
              "      <td>0.56</td>\n",
              "      <td>0.56</td>\n",
              "      <td>0.19</td>\n",
              "    </tr>\n",
              "    <tr>\n",
              "      <th>4</th>\n",
              "      <td>0.4</td>\n",
              "      <td>0.56</td>\n",
              "      <td>0.56</td>\n",
              "      <td>0.40</td>\n",
              "    </tr>\n",
              "    <tr>\n",
              "      <th>5</th>\n",
              "      <td>0.4</td>\n",
              "      <td>0.62</td>\n",
              "      <td>0.62</td>\n",
              "      <td>0.31</td>\n",
              "    </tr>\n",
              "  </tbody>\n",
              "</table>\n",
              "</div>\n",
              "      <button class=\"colab-df-convert\" onclick=\"convertToInteractive('df-22d76ce8-a5b3-425f-9d54-03cebcfbbd03')\"\n",
              "              title=\"Convert this dataframe to an interactive table.\"\n",
              "              style=\"display:none;\">\n",
              "        \n",
              "  <svg xmlns=\"http://www.w3.org/2000/svg\" height=\"24px\"viewBox=\"0 0 24 24\"\n",
              "       width=\"24px\">\n",
              "    <path d=\"M0 0h24v24H0V0z\" fill=\"none\"/>\n",
              "    <path d=\"M18.56 5.44l.94 2.06.94-2.06 2.06-.94-2.06-.94-.94-2.06-.94 2.06-2.06.94zm-11 1L8.5 8.5l.94-2.06 2.06-.94-2.06-.94L8.5 2.5l-.94 2.06-2.06.94zm10 10l.94 2.06.94-2.06 2.06-.94-2.06-.94-.94-2.06-.94 2.06-2.06.94z\"/><path d=\"M17.41 7.96l-1.37-1.37c-.4-.4-.92-.59-1.43-.59-.52 0-1.04.2-1.43.59L10.3 9.45l-7.72 7.72c-.78.78-.78 2.05 0 2.83L4 21.41c.39.39.9.59 1.41.59.51 0 1.02-.2 1.41-.59l7.78-7.78 2.81-2.81c.8-.78.8-2.07 0-2.86zM5.41 20L4 18.59l7.72-7.72 1.47 1.35L5.41 20z\"/>\n",
              "  </svg>\n",
              "      </button>\n",
              "      \n",
              "  <style>\n",
              "    .colab-df-container {\n",
              "      display:flex;\n",
              "      flex-wrap:wrap;\n",
              "      gap: 12px;\n",
              "    }\n",
              "\n",
              "    .colab-df-convert {\n",
              "      background-color: #E8F0FE;\n",
              "      border: none;\n",
              "      border-radius: 50%;\n",
              "      cursor: pointer;\n",
              "      display: none;\n",
              "      fill: #1967D2;\n",
              "      height: 32px;\n",
              "      padding: 0 0 0 0;\n",
              "      width: 32px;\n",
              "    }\n",
              "\n",
              "    .colab-df-convert:hover {\n",
              "      background-color: #E2EBFA;\n",
              "      box-shadow: 0px 1px 2px rgba(60, 64, 67, 0.3), 0px 1px 3px 1px rgba(60, 64, 67, 0.15);\n",
              "      fill: #174EA6;\n",
              "    }\n",
              "\n",
              "    [theme=dark] .colab-df-convert {\n",
              "      background-color: #3B4455;\n",
              "      fill: #D2E3FC;\n",
              "    }\n",
              "\n",
              "    [theme=dark] .colab-df-convert:hover {\n",
              "      background-color: #434B5C;\n",
              "      box-shadow: 0px 1px 3px 1px rgba(0, 0, 0, 0.15);\n",
              "      filter: drop-shadow(0px 1px 2px rgba(0, 0, 0, 0.3));\n",
              "      fill: #FFFFFF;\n",
              "    }\n",
              "  </style>\n",
              "\n",
              "      <script>\n",
              "        const buttonEl =\n",
              "          document.querySelector('#df-22d76ce8-a5b3-425f-9d54-03cebcfbbd03 button.colab-df-convert');\n",
              "        buttonEl.style.display =\n",
              "          google.colab.kernel.accessAllowed ? 'block' : 'none';\n",
              "\n",
              "        async function convertToInteractive(key) {\n",
              "          const element = document.querySelector('#df-22d76ce8-a5b3-425f-9d54-03cebcfbbd03');\n",
              "          const dataTable =\n",
              "            await google.colab.kernel.invokeFunction('convertToInteractive',\n",
              "                                                     [key], {});\n",
              "          if (!dataTable) return;\n",
              "\n",
              "          const docLinkHtml = 'Like what you see? Visit the ' +\n",
              "            '<a target=\"_blank\" href=https://colab.research.google.com/notebooks/data_table.ipynb>data table notebook</a>'\n",
              "            + ' to learn more about interactive tables.';\n",
              "          element.innerHTML = '';\n",
              "          dataTable['output_type'] = 'display_data';\n",
              "          await google.colab.output.renderOutput(dataTable, element);\n",
              "          const docLink = document.createElement('div');\n",
              "          docLink.innerHTML = docLinkHtml;\n",
              "          element.appendChild(docLink);\n",
              "        }\n",
              "      </script>\n",
              "    </div>\n",
              "  </div>\n",
              "  "
            ]
          },
          "metadata": {},
          "execution_count": 19
        }
      ]
    },
    {
      "cell_type": "code",
      "source": [
        "udf.to_csv('All Centality Degrees (Undirected Graph).csv')"
      ],
      "metadata": {
        "id": "eD5jXN3GSD_6"
      },
      "execution_count": null,
      "outputs": []
    },
    {
      "cell_type": "code",
      "source": [
        "def find_node_min_centarlity(udf,cent_name):\n",
        "  min = 100\n",
        "  node_min = -1\n",
        "  for i in range(len(udf)):\n",
        "    if udf[cent_name][i] < min:\n",
        "      min =  udf[cent_name][i]\n",
        "      node_min = i\n",
        "  return node_min,min\n",
        "\n",
        "def find_node_max_centarlity(udf,cent_name):\n",
        "  max = 0\n",
        "  node_max = -1\n",
        "  for i in range(len(udf)):\n",
        "    if udf[cent_name][i] > max:\n",
        "      max =  udf[cent_name][i]\n",
        "      node_max = i\n",
        "  return node_max,max"
      ],
      "metadata": {
        "id": "_aLM0FpVSGjK"
      },
      "execution_count": null,
      "outputs": []
    },
    {
      "cell_type": "code",
      "source": [
        "node_min,min = find_node_min_centarlity(udf,'Degree_Centrality')\n",
        "node_max,max = find_node_max_centarlity(udf,'Degree_Centrality')\n",
        "print(node_min,min)\n",
        "print(node_max,max)\n",
        "degree_cent_min_max = {'Min Degree Node':str(node_min),'Value C1':min,'Max Degree Node':str(node_max),'Value C2':max}"
      ],
      "metadata": {
        "colab": {
          "base_uri": "https://localhost:8080/"
        },
        "id": "b-u0BSJ1SIxg",
        "outputId": "345583bb-c419-4a9b-ff39-4ecc7099e7f8"
      },
      "execution_count": null,
      "outputs": [
        {
          "output_type": "stream",
          "name": "stdout",
          "text": [
            "0 0.4\n",
            "1 1.0\n"
          ]
        }
      ]
    },
    {
      "cell_type": "code",
      "source": [
        "node_min,min = find_node_min_centarlity(udf,'Closeness_Centrality')\n",
        "node_max,max = find_node_max_centarlity(udf,'Closeness_Centrality')\n",
        "print(node_min,min)\n",
        "print(node_max,max)\n",
        "closeness_cent_min_max = {'Min Degree Node':str(node_min),'Value C1':min,'Max Degree Node':str(node_max),'Value C2':max}"
      ],
      "metadata": {
        "colab": {
          "base_uri": "https://localhost:8080/"
        },
        "id": "aKkYY_JZSLVd",
        "outputId": "fcb4310e-4d95-4e36-d856-9cdb4cd3c68e"
      },
      "execution_count": null,
      "outputs": [
        {
          "output_type": "stream",
          "name": "stdout",
          "text": [
            "3 0.56\n",
            "1 0.71\n"
          ]
        }
      ]
    },
    {
      "cell_type": "code",
      "source": [
        "node_min,min = find_node_min_centarlity(udf,'Betweeness_Centrality')\n",
        "node_max,max = find_node_max_centarlity(udf,'Betweeness_Centrality')\n",
        "print(node_min,min)\n",
        "print(node_max,max)\n",
        "betweeness_cent_min_max = {'Min Degree Node':str(node_min),'Value C1':min,'Max Degree Node':str(node_max),'Value C2':max}"
      ],
      "metadata": {
        "colab": {
          "base_uri": "https://localhost:8080/"
        },
        "id": "TR5zikdOSNsu",
        "outputId": "a5cc2617-0437-4f6f-c98f-56a033d8194c"
      },
      "execution_count": null,
      "outputs": [
        {
          "output_type": "stream",
          "name": "stdout",
          "text": [
            "3 0.56\n",
            "1 0.71\n"
          ]
        }
      ]
    },
    {
      "cell_type": "code",
      "source": [
        "node_min,min = find_node_min_centarlity(udf,'Eigen_Vector_Centrality')\n",
        "node_max,max = find_node_max_centarlity(udf,'Eigen_Vector_Centrality')\n",
        "print(node_min,min)\n",
        "print(node_max,max)\n",
        "eigen_vector_cent_min_max = {'Min Degree Node':str(node_min),'Value C1':min,'Max Degree Node':str(node_max),'Value C2':max}"
      ],
      "metadata": {
        "colab": {
          "base_uri": "https://localhost:8080/"
        },
        "id": "ItwhEo_ZSPoB",
        "outputId": "81628e63-369b-4a64-acae-a5f3b98d6b4f"
      },
      "execution_count": null,
      "outputs": [
        {
          "output_type": "stream",
          "name": "stdout",
          "text": [
            "3 0.19\n",
            "1 0.66\n"
          ]
        }
      ]
    },
    {
      "cell_type": "code",
      "source": [
        "udf_min_max = pd.DataFrame(columns=['Min Degree Node','Value C1','Max Degree Node','Value C2'])\n",
        "\n",
        "udf_min_max"
      ],
      "metadata": {
        "colab": {
          "base_uri": "https://localhost:8080/",
          "height": 49
        },
        "id": "H7VO0bIJSRxn",
        "outputId": "1b8b38f6-31ae-41b0-f10b-3153c87f08c0"
      },
      "execution_count": null,
      "outputs": [
        {
          "output_type": "execute_result",
          "data": {
            "text/plain": [
              "Empty DataFrame\n",
              "Columns: [Min Degree Node, Value C1, Max Degree Node, Value C2]\n",
              "Index: []"
            ],
            "text/html": [
              "\n",
              "  <div id=\"df-3e1abec2-b6ce-4e3b-9b3c-202ae61001fc\">\n",
              "    <div class=\"colab-df-container\">\n",
              "      <div>\n",
              "<style scoped>\n",
              "    .dataframe tbody tr th:only-of-type {\n",
              "        vertical-align: middle;\n",
              "    }\n",
              "\n",
              "    .dataframe tbody tr th {\n",
              "        vertical-align: top;\n",
              "    }\n",
              "\n",
              "    .dataframe thead th {\n",
              "        text-align: right;\n",
              "    }\n",
              "</style>\n",
              "<table border=\"1\" class=\"dataframe\">\n",
              "  <thead>\n",
              "    <tr style=\"text-align: right;\">\n",
              "      <th></th>\n",
              "      <th>Min Degree Node</th>\n",
              "      <th>Value C1</th>\n",
              "      <th>Max Degree Node</th>\n",
              "      <th>Value C2</th>\n",
              "    </tr>\n",
              "  </thead>\n",
              "  <tbody>\n",
              "  </tbody>\n",
              "</table>\n",
              "</div>\n",
              "      <button class=\"colab-df-convert\" onclick=\"convertToInteractive('df-3e1abec2-b6ce-4e3b-9b3c-202ae61001fc')\"\n",
              "              title=\"Convert this dataframe to an interactive table.\"\n",
              "              style=\"display:none;\">\n",
              "        \n",
              "  <svg xmlns=\"http://www.w3.org/2000/svg\" height=\"24px\"viewBox=\"0 0 24 24\"\n",
              "       width=\"24px\">\n",
              "    <path d=\"M0 0h24v24H0V0z\" fill=\"none\"/>\n",
              "    <path d=\"M18.56 5.44l.94 2.06.94-2.06 2.06-.94-2.06-.94-.94-2.06-.94 2.06-2.06.94zm-11 1L8.5 8.5l.94-2.06 2.06-.94-2.06-.94L8.5 2.5l-.94 2.06-2.06.94zm10 10l.94 2.06.94-2.06 2.06-.94-2.06-.94-.94-2.06-.94 2.06-2.06.94z\"/><path d=\"M17.41 7.96l-1.37-1.37c-.4-.4-.92-.59-1.43-.59-.52 0-1.04.2-1.43.59L10.3 9.45l-7.72 7.72c-.78.78-.78 2.05 0 2.83L4 21.41c.39.39.9.59 1.41.59.51 0 1.02-.2 1.41-.59l7.78-7.78 2.81-2.81c.8-.78.8-2.07 0-2.86zM5.41 20L4 18.59l7.72-7.72 1.47 1.35L5.41 20z\"/>\n",
              "  </svg>\n",
              "      </button>\n",
              "      \n",
              "  <style>\n",
              "    .colab-df-container {\n",
              "      display:flex;\n",
              "      flex-wrap:wrap;\n",
              "      gap: 12px;\n",
              "    }\n",
              "\n",
              "    .colab-df-convert {\n",
              "      background-color: #E8F0FE;\n",
              "      border: none;\n",
              "      border-radius: 50%;\n",
              "      cursor: pointer;\n",
              "      display: none;\n",
              "      fill: #1967D2;\n",
              "      height: 32px;\n",
              "      padding: 0 0 0 0;\n",
              "      width: 32px;\n",
              "    }\n",
              "\n",
              "    .colab-df-convert:hover {\n",
              "      background-color: #E2EBFA;\n",
              "      box-shadow: 0px 1px 2px rgba(60, 64, 67, 0.3), 0px 1px 3px 1px rgba(60, 64, 67, 0.15);\n",
              "      fill: #174EA6;\n",
              "    }\n",
              "\n",
              "    [theme=dark] .colab-df-convert {\n",
              "      background-color: #3B4455;\n",
              "      fill: #D2E3FC;\n",
              "    }\n",
              "\n",
              "    [theme=dark] .colab-df-convert:hover {\n",
              "      background-color: #434B5C;\n",
              "      box-shadow: 0px 1px 3px 1px rgba(0, 0, 0, 0.15);\n",
              "      filter: drop-shadow(0px 1px 2px rgba(0, 0, 0, 0.3));\n",
              "      fill: #FFFFFF;\n",
              "    }\n",
              "  </style>\n",
              "\n",
              "      <script>\n",
              "        const buttonEl =\n",
              "          document.querySelector('#df-3e1abec2-b6ce-4e3b-9b3c-202ae61001fc button.colab-df-convert');\n",
              "        buttonEl.style.display =\n",
              "          google.colab.kernel.accessAllowed ? 'block' : 'none';\n",
              "\n",
              "        async function convertToInteractive(key) {\n",
              "          const element = document.querySelector('#df-3e1abec2-b6ce-4e3b-9b3c-202ae61001fc');\n",
              "          const dataTable =\n",
              "            await google.colab.kernel.invokeFunction('convertToInteractive',\n",
              "                                                     [key], {});\n",
              "          if (!dataTable) return;\n",
              "\n",
              "          const docLinkHtml = 'Like what you see? Visit the ' +\n",
              "            '<a target=\"_blank\" href=https://colab.research.google.com/notebooks/data_table.ipynb>data table notebook</a>'\n",
              "            + ' to learn more about interactive tables.';\n",
              "          element.innerHTML = '';\n",
              "          dataTable['output_type'] = 'display_data';\n",
              "          await google.colab.output.renderOutput(dataTable, element);\n",
              "          const docLink = document.createElement('div');\n",
              "          docLink.innerHTML = docLinkHtml;\n",
              "          element.appendChild(docLink);\n",
              "        }\n",
              "      </script>\n",
              "    </div>\n",
              "  </div>\n",
              "  "
            ]
          },
          "metadata": {},
          "execution_count": 26
        }
      ]
    },
    {
      "cell_type": "markdown",
      "source": [
        "Min Degree Node\tValue C1\tMax Degree Node\tValue C2\n"
      ],
      "metadata": {
        "id": "1uqW8_YsSWJm"
      }
    },
    {
      "cell_type": "code",
      "source": [
        "udf_min_max = udf_min_max.append(pd.Series(degree_cent_min_max,index = udf_min_max.columns,name = 'Degree Centrality'))\n",
        "udf_min_max = udf_min_max.append(pd.Series(closeness_cent_min_max,index = udf_min_max.columns,name = 'Closeness Centrality'))\n",
        "udf_min_max = udf_min_max.append(pd.Series(betweeness_cent_min_max,index = udf_min_max.columns,name = 'Betweeness Centrality'))\n",
        "udf_min_max = udf_min_max.append(pd.Series(eigen_vector_cent_min_max,index = udf_min_max.columns,name = 'Eigen Vector Centrality'))\n",
        "udf_min_max"
      ],
      "metadata": {
        "colab": {
          "base_uri": "https://localhost:8080/",
          "height": 333
        },
        "id": "Cz6i-mzFSTwA",
        "outputId": "df17f335-e76f-4e33-9dc8-8b49c2028f3b"
      },
      "execution_count": null,
      "outputs": [
        {
          "output_type": "stream",
          "name": "stderr",
          "text": [
            "<ipython-input-27-f63f0aa390aa>:1: FutureWarning: The frame.append method is deprecated and will be removed from pandas in a future version. Use pandas.concat instead.\n",
            "  udf_min_max = udf_min_max.append(pd.Series(degree_cent_min_max,index = udf_min_max.columns,name = 'Degree Centrality'))\n",
            "<ipython-input-27-f63f0aa390aa>:2: FutureWarning: The frame.append method is deprecated and will be removed from pandas in a future version. Use pandas.concat instead.\n",
            "  udf_min_max = udf_min_max.append(pd.Series(closeness_cent_min_max,index = udf_min_max.columns,name = 'Closeness Centrality'))\n",
            "<ipython-input-27-f63f0aa390aa>:3: FutureWarning: The frame.append method is deprecated and will be removed from pandas in a future version. Use pandas.concat instead.\n",
            "  udf_min_max = udf_min_max.append(pd.Series(betweeness_cent_min_max,index = udf_min_max.columns,name = 'Betweeness Centrality'))\n",
            "<ipython-input-27-f63f0aa390aa>:4: FutureWarning: The frame.append method is deprecated and will be removed from pandas in a future version. Use pandas.concat instead.\n",
            "  udf_min_max = udf_min_max.append(pd.Series(eigen_vector_cent_min_max,index = udf_min_max.columns,name = 'Eigen Vector Centrality'))\n"
          ]
        },
        {
          "output_type": "execute_result",
          "data": {
            "text/plain": [
              "                        Min Degree Node  Value C1 Max Degree Node  Value C2\n",
              "Degree Centrality                     0      0.40               1      1.00\n",
              "Closeness Centrality                  3      0.56               1      0.71\n",
              "Betweeness Centrality                 3      0.56               1      0.71\n",
              "Eigen Vector Centrality               3      0.19               1      0.66"
            ],
            "text/html": [
              "\n",
              "  <div id=\"df-f07c78f6-69b4-4804-9121-d7a989f84c76\">\n",
              "    <div class=\"colab-df-container\">\n",
              "      <div>\n",
              "<style scoped>\n",
              "    .dataframe tbody tr th:only-of-type {\n",
              "        vertical-align: middle;\n",
              "    }\n",
              "\n",
              "    .dataframe tbody tr th {\n",
              "        vertical-align: top;\n",
              "    }\n",
              "\n",
              "    .dataframe thead th {\n",
              "        text-align: right;\n",
              "    }\n",
              "</style>\n",
              "<table border=\"1\" class=\"dataframe\">\n",
              "  <thead>\n",
              "    <tr style=\"text-align: right;\">\n",
              "      <th></th>\n",
              "      <th>Min Degree Node</th>\n",
              "      <th>Value C1</th>\n",
              "      <th>Max Degree Node</th>\n",
              "      <th>Value C2</th>\n",
              "    </tr>\n",
              "  </thead>\n",
              "  <tbody>\n",
              "    <tr>\n",
              "      <th>Degree Centrality</th>\n",
              "      <td>0</td>\n",
              "      <td>0.40</td>\n",
              "      <td>1</td>\n",
              "      <td>1.00</td>\n",
              "    </tr>\n",
              "    <tr>\n",
              "      <th>Closeness Centrality</th>\n",
              "      <td>3</td>\n",
              "      <td>0.56</td>\n",
              "      <td>1</td>\n",
              "      <td>0.71</td>\n",
              "    </tr>\n",
              "    <tr>\n",
              "      <th>Betweeness Centrality</th>\n",
              "      <td>3</td>\n",
              "      <td>0.56</td>\n",
              "      <td>1</td>\n",
              "      <td>0.71</td>\n",
              "    </tr>\n",
              "    <tr>\n",
              "      <th>Eigen Vector Centrality</th>\n",
              "      <td>3</td>\n",
              "      <td>0.19</td>\n",
              "      <td>1</td>\n",
              "      <td>0.66</td>\n",
              "    </tr>\n",
              "  </tbody>\n",
              "</table>\n",
              "</div>\n",
              "      <button class=\"colab-df-convert\" onclick=\"convertToInteractive('df-f07c78f6-69b4-4804-9121-d7a989f84c76')\"\n",
              "              title=\"Convert this dataframe to an interactive table.\"\n",
              "              style=\"display:none;\">\n",
              "        \n",
              "  <svg xmlns=\"http://www.w3.org/2000/svg\" height=\"24px\"viewBox=\"0 0 24 24\"\n",
              "       width=\"24px\">\n",
              "    <path d=\"M0 0h24v24H0V0z\" fill=\"none\"/>\n",
              "    <path d=\"M18.56 5.44l.94 2.06.94-2.06 2.06-.94-2.06-.94-.94-2.06-.94 2.06-2.06.94zm-11 1L8.5 8.5l.94-2.06 2.06-.94-2.06-.94L8.5 2.5l-.94 2.06-2.06.94zm10 10l.94 2.06.94-2.06 2.06-.94-2.06-.94-.94-2.06-.94 2.06-2.06.94z\"/><path d=\"M17.41 7.96l-1.37-1.37c-.4-.4-.92-.59-1.43-.59-.52 0-1.04.2-1.43.59L10.3 9.45l-7.72 7.72c-.78.78-.78 2.05 0 2.83L4 21.41c.39.39.9.59 1.41.59.51 0 1.02-.2 1.41-.59l7.78-7.78 2.81-2.81c.8-.78.8-2.07 0-2.86zM5.41 20L4 18.59l7.72-7.72 1.47 1.35L5.41 20z\"/>\n",
              "  </svg>\n",
              "      </button>\n",
              "      \n",
              "  <style>\n",
              "    .colab-df-container {\n",
              "      display:flex;\n",
              "      flex-wrap:wrap;\n",
              "      gap: 12px;\n",
              "    }\n",
              "\n",
              "    .colab-df-convert {\n",
              "      background-color: #E8F0FE;\n",
              "      border: none;\n",
              "      border-radius: 50%;\n",
              "      cursor: pointer;\n",
              "      display: none;\n",
              "      fill: #1967D2;\n",
              "      height: 32px;\n",
              "      padding: 0 0 0 0;\n",
              "      width: 32px;\n",
              "    }\n",
              "\n",
              "    .colab-df-convert:hover {\n",
              "      background-color: #E2EBFA;\n",
              "      box-shadow: 0px 1px 2px rgba(60, 64, 67, 0.3), 0px 1px 3px 1px rgba(60, 64, 67, 0.15);\n",
              "      fill: #174EA6;\n",
              "    }\n",
              "\n",
              "    [theme=dark] .colab-df-convert {\n",
              "      background-color: #3B4455;\n",
              "      fill: #D2E3FC;\n",
              "    }\n",
              "\n",
              "    [theme=dark] .colab-df-convert:hover {\n",
              "      background-color: #434B5C;\n",
              "      box-shadow: 0px 1px 3px 1px rgba(0, 0, 0, 0.15);\n",
              "      filter: drop-shadow(0px 1px 2px rgba(0, 0, 0, 0.3));\n",
              "      fill: #FFFFFF;\n",
              "    }\n",
              "  </style>\n",
              "\n",
              "      <script>\n",
              "        const buttonEl =\n",
              "          document.querySelector('#df-f07c78f6-69b4-4804-9121-d7a989f84c76 button.colab-df-convert');\n",
              "        buttonEl.style.display =\n",
              "          google.colab.kernel.accessAllowed ? 'block' : 'none';\n",
              "\n",
              "        async function convertToInteractive(key) {\n",
              "          const element = document.querySelector('#df-f07c78f6-69b4-4804-9121-d7a989f84c76');\n",
              "          const dataTable =\n",
              "            await google.colab.kernel.invokeFunction('convertToInteractive',\n",
              "                                                     [key], {});\n",
              "          if (!dataTable) return;\n",
              "\n",
              "          const docLinkHtml = 'Like what you see? Visit the ' +\n",
              "            '<a target=\"_blank\" href=https://colab.research.google.com/notebooks/data_table.ipynb>data table notebook</a>'\n",
              "            + ' to learn more about interactive tables.';\n",
              "          element.innerHTML = '';\n",
              "          dataTable['output_type'] = 'display_data';\n",
              "          await google.colab.output.renderOutput(dataTable, element);\n",
              "          const docLink = document.createElement('div');\n",
              "          docLink.innerHTML = docLinkHtml;\n",
              "          element.appendChild(docLink);\n",
              "        }\n",
              "      </script>\n",
              "    </div>\n",
              "  </div>\n",
              "  "
            ]
          },
          "metadata": {},
          "execution_count": 27
        }
      ]
    },
    {
      "cell_type": "code",
      "source": [
        "'''\n",
        "udf_min_max = udf_min_max.assign(index= udf.columns)\n",
        "udf_min_max = udf_min_max.set_index(udf_min_max['index'])\n",
        "udf_min_max.drop(columns=['index'])\n",
        "\n",
        "'''"
      ],
      "metadata": {
        "colab": {
          "base_uri": "https://localhost:8080/",
          "height": 53
        },
        "id": "U3bfvsDISZD_",
        "outputId": "9b167b57-d96d-4b7c-8fd5-7f29503f4f87"
      },
      "execution_count": null,
      "outputs": [
        {
          "output_type": "execute_result",
          "data": {
            "text/plain": [
              "\"\\nudf_min_max = udf_min_max.assign(index= udf.columns)\\nudf_min_max = udf_min_max.set_index(udf_min_max['index'])\\nudf_min_max.drop(columns=['index'])\\n\\n\""
            ],
            "application/vnd.google.colaboratory.intrinsic+json": {
              "type": "string"
            }
          },
          "metadata": {},
          "execution_count": 28
        }
      ]
    },
    {
      "cell_type": "markdown",
      "source": [
        "Directed Graph"
      ],
      "metadata": {
        "id": "8JEjqitfSd41"
      }
    },
    {
      "cell_type": "code",
      "source": [
        "deg_centrality = nx.degree_centrality(G2)\n",
        "print(deg_centrality)\n",
        "dg_deg_centrality = dict_round(deg_centrality)\n",
        "print(dg_deg_centrality)"
      ],
      "metadata": {
        "colab": {
          "base_uri": "https://localhost:8080/"
        },
        "id": "HDCnVdWESbec",
        "outputId": "07e0871c-962c-49f2-d055-8833b9c1b727"
      },
      "execution_count": null,
      "outputs": [
        {
          "output_type": "stream",
          "name": "stdout",
          "text": [
            "{1: 1.0, 4: 0.4, 2: 0.8, 0: 0.6000000000000001, 3: 0.4, 5: 0.4}\n",
            "{0: 0.6, 1: 1.0, 2: 0.8, 3: 0.4, 4: 0.4, 5: 0.4}\n"
          ]
        }
      ]
    },
    {
      "cell_type": "code",
      "source": [
        "closeness_centrality = nx.closeness_centrality(G2)\n",
        "print(closeness_centrality)\n",
        "dg_closeness_centrality = dict_round(closeness_centrality)\n",
        "print(dg_closeness_centrality)"
      ],
      "metadata": {
        "colab": {
          "base_uri": "https://localhost:8080/"
        },
        "id": "ZycdCXciSg0H",
        "outputId": "3f3e9793-e0ef-4699-aa27-ee60cc879a23"
      },
      "execution_count": null,
      "outputs": [
        {
          "output_type": "stream",
          "name": "stdout",
          "text": [
            "{1: 0.625, 4: 0.45454545454545453, 2: 0.45454545454545453, 0: 0.3333333333333333, 3: 0.3333333333333333, 5: 0.3333333333333333}\n",
            "{0: 0.33, 1: 0.62, 2: 0.45, 3: 0.33, 4: 0.45, 5: 0.33}\n"
          ]
        }
      ]
    },
    {
      "cell_type": "code",
      "source": [
        "betweeness_centrality = nx.closeness_centrality(G2)\n",
        "print(betweeness_centrality)\n",
        "dg_betweeness_centrality = dict_round(betweeness_centrality)\n",
        "print(dg_betweeness_centrality)"
      ],
      "metadata": {
        "colab": {
          "base_uri": "https://localhost:8080/"
        },
        "id": "YYqB1TADSnxe",
        "outputId": "666d0ab4-852f-4b5a-d5bf-ada610413999"
      },
      "execution_count": null,
      "outputs": [
        {
          "output_type": "stream",
          "name": "stdout",
          "text": [
            "{1: 0.625, 4: 0.45454545454545453, 2: 0.45454545454545453, 0: 0.3333333333333333, 3: 0.3333333333333333, 5: 0.3333333333333333}\n",
            "{0: 0.33, 1: 0.62, 2: 0.45, 3: 0.33, 4: 0.45, 5: 0.33}\n"
          ]
        }
      ]
    },
    {
      "cell_type": "code",
      "source": [
        "'''\n",
        "eigen_vector_centrality = nx.eigenvector_centrality(G2)\n",
        "print(eigen_vector_centrality)\n",
        "dg_eigen_vector_centrality = dict_round(eigen_vector_centrality)\n",
        "print(dg_eigen_vector_centrality)\n",
        "\n",
        "'''"
      ],
      "metadata": {
        "colab": {
          "base_uri": "https://localhost:8080/",
          "height": 53
        },
        "id": "lyT3PthCSsyG",
        "outputId": "c7abd99d-ec45-4f28-c6ff-110431b91560"
      },
      "execution_count": null,
      "outputs": [
        {
          "output_type": "execute_result",
          "data": {
            "text/plain": [
              "'\\neigen_vector_centrality = nx.eigenvector_centrality(G2)\\nprint(eigen_vector_centrality)\\ndg_eigen_vector_centrality = dict_round(eigen_vector_centrality)\\nprint(dg_eigen_vector_centrality)\\n\\n'"
            ],
            "application/vnd.google.colaboratory.intrinsic+json": {
              "type": "string"
            }
          },
          "metadata": {},
          "execution_count": 32
        }
      ]
    },
    {
      "cell_type": "code",
      "source": [
        "ddf = pd.DataFrame.from_dict(dg_deg_centrality,orient='index',columns=['Degree_Centrality'])\n",
        "ddf = ddf.assign(Closeness_Centrality= dg_closeness_centrality.values())\n",
        "ddf = ddf.assign(Betweeness_Centrality= dg_betweeness_centrality.values())\n",
        "#ddf = ddf.assign(Eigen_Vector_Centrality= dg_eigen_vector_centrality.values())\n",
        "ddf"
      ],
      "metadata": {
        "colab": {
          "base_uri": "https://localhost:8080/",
          "height": 237
        },
        "id": "6l5yyny9Swb2",
        "outputId": "7b9159d6-51ec-45a3-eaa2-6c6218b3b677"
      },
      "execution_count": null,
      "outputs": [
        {
          "output_type": "execute_result",
          "data": {
            "text/plain": [
              "   Degree_Centrality  Closeness_Centrality  Betweeness_Centrality\n",
              "0                0.6                  0.33                   0.33\n",
              "1                1.0                  0.62                   0.62\n",
              "2                0.8                  0.45                   0.45\n",
              "3                0.4                  0.33                   0.33\n",
              "4                0.4                  0.45                   0.45\n",
              "5                0.4                  0.33                   0.33"
            ],
            "text/html": [
              "\n",
              "  <div id=\"df-4b2aecde-07a6-4628-a92e-d552943de38c\">\n",
              "    <div class=\"colab-df-container\">\n",
              "      <div>\n",
              "<style scoped>\n",
              "    .dataframe tbody tr th:only-of-type {\n",
              "        vertical-align: middle;\n",
              "    }\n",
              "\n",
              "    .dataframe tbody tr th {\n",
              "        vertical-align: top;\n",
              "    }\n",
              "\n",
              "    .dataframe thead th {\n",
              "        text-align: right;\n",
              "    }\n",
              "</style>\n",
              "<table border=\"1\" class=\"dataframe\">\n",
              "  <thead>\n",
              "    <tr style=\"text-align: right;\">\n",
              "      <th></th>\n",
              "      <th>Degree_Centrality</th>\n",
              "      <th>Closeness_Centrality</th>\n",
              "      <th>Betweeness_Centrality</th>\n",
              "    </tr>\n",
              "  </thead>\n",
              "  <tbody>\n",
              "    <tr>\n",
              "      <th>0</th>\n",
              "      <td>0.6</td>\n",
              "      <td>0.33</td>\n",
              "      <td>0.33</td>\n",
              "    </tr>\n",
              "    <tr>\n",
              "      <th>1</th>\n",
              "      <td>1.0</td>\n",
              "      <td>0.62</td>\n",
              "      <td>0.62</td>\n",
              "    </tr>\n",
              "    <tr>\n",
              "      <th>2</th>\n",
              "      <td>0.8</td>\n",
              "      <td>0.45</td>\n",
              "      <td>0.45</td>\n",
              "    </tr>\n",
              "    <tr>\n",
              "      <th>3</th>\n",
              "      <td>0.4</td>\n",
              "      <td>0.33</td>\n",
              "      <td>0.33</td>\n",
              "    </tr>\n",
              "    <tr>\n",
              "      <th>4</th>\n",
              "      <td>0.4</td>\n",
              "      <td>0.45</td>\n",
              "      <td>0.45</td>\n",
              "    </tr>\n",
              "    <tr>\n",
              "      <th>5</th>\n",
              "      <td>0.4</td>\n",
              "      <td>0.33</td>\n",
              "      <td>0.33</td>\n",
              "    </tr>\n",
              "  </tbody>\n",
              "</table>\n",
              "</div>\n",
              "      <button class=\"colab-df-convert\" onclick=\"convertToInteractive('df-4b2aecde-07a6-4628-a92e-d552943de38c')\"\n",
              "              title=\"Convert this dataframe to an interactive table.\"\n",
              "              style=\"display:none;\">\n",
              "        \n",
              "  <svg xmlns=\"http://www.w3.org/2000/svg\" height=\"24px\"viewBox=\"0 0 24 24\"\n",
              "       width=\"24px\">\n",
              "    <path d=\"M0 0h24v24H0V0z\" fill=\"none\"/>\n",
              "    <path d=\"M18.56 5.44l.94 2.06.94-2.06 2.06-.94-2.06-.94-.94-2.06-.94 2.06-2.06.94zm-11 1L8.5 8.5l.94-2.06 2.06-.94-2.06-.94L8.5 2.5l-.94 2.06-2.06.94zm10 10l.94 2.06.94-2.06 2.06-.94-2.06-.94-.94-2.06-.94 2.06-2.06.94z\"/><path d=\"M17.41 7.96l-1.37-1.37c-.4-.4-.92-.59-1.43-.59-.52 0-1.04.2-1.43.59L10.3 9.45l-7.72 7.72c-.78.78-.78 2.05 0 2.83L4 21.41c.39.39.9.59 1.41.59.51 0 1.02-.2 1.41-.59l7.78-7.78 2.81-2.81c.8-.78.8-2.07 0-2.86zM5.41 20L4 18.59l7.72-7.72 1.47 1.35L5.41 20z\"/>\n",
              "  </svg>\n",
              "      </button>\n",
              "      \n",
              "  <style>\n",
              "    .colab-df-container {\n",
              "      display:flex;\n",
              "      flex-wrap:wrap;\n",
              "      gap: 12px;\n",
              "    }\n",
              "\n",
              "    .colab-df-convert {\n",
              "      background-color: #E8F0FE;\n",
              "      border: none;\n",
              "      border-radius: 50%;\n",
              "      cursor: pointer;\n",
              "      display: none;\n",
              "      fill: #1967D2;\n",
              "      height: 32px;\n",
              "      padding: 0 0 0 0;\n",
              "      width: 32px;\n",
              "    }\n",
              "\n",
              "    .colab-df-convert:hover {\n",
              "      background-color: #E2EBFA;\n",
              "      box-shadow: 0px 1px 2px rgba(60, 64, 67, 0.3), 0px 1px 3px 1px rgba(60, 64, 67, 0.15);\n",
              "      fill: #174EA6;\n",
              "    }\n",
              "\n",
              "    [theme=dark] .colab-df-convert {\n",
              "      background-color: #3B4455;\n",
              "      fill: #D2E3FC;\n",
              "    }\n",
              "\n",
              "    [theme=dark] .colab-df-convert:hover {\n",
              "      background-color: #434B5C;\n",
              "      box-shadow: 0px 1px 3px 1px rgba(0, 0, 0, 0.15);\n",
              "      filter: drop-shadow(0px 1px 2px rgba(0, 0, 0, 0.3));\n",
              "      fill: #FFFFFF;\n",
              "    }\n",
              "  </style>\n",
              "\n",
              "      <script>\n",
              "        const buttonEl =\n",
              "          document.querySelector('#df-4b2aecde-07a6-4628-a92e-d552943de38c button.colab-df-convert');\n",
              "        buttonEl.style.display =\n",
              "          google.colab.kernel.accessAllowed ? 'block' : 'none';\n",
              "\n",
              "        async function convertToInteractive(key) {\n",
              "          const element = document.querySelector('#df-4b2aecde-07a6-4628-a92e-d552943de38c');\n",
              "          const dataTable =\n",
              "            await google.colab.kernel.invokeFunction('convertToInteractive',\n",
              "                                                     [key], {});\n",
              "          if (!dataTable) return;\n",
              "\n",
              "          const docLinkHtml = 'Like what you see? Visit the ' +\n",
              "            '<a target=\"_blank\" href=https://colab.research.google.com/notebooks/data_table.ipynb>data table notebook</a>'\n",
              "            + ' to learn more about interactive tables.';\n",
              "          element.innerHTML = '';\n",
              "          dataTable['output_type'] = 'display_data';\n",
              "          await google.colab.output.renderOutput(dataTable, element);\n",
              "          const docLink = document.createElement('div');\n",
              "          docLink.innerHTML = docLinkHtml;\n",
              "          element.appendChild(docLink);\n",
              "        }\n",
              "      </script>\n",
              "    </div>\n",
              "  </div>\n",
              "  "
            ]
          },
          "metadata": {},
          "execution_count": 33
        }
      ]
    },
    {
      "cell_type": "code",
      "source": [
        "node_min,min = find_node_min_centarlity(udf,'Degree_Centrality')\n",
        "node_max,max = find_node_max_centarlity(udf,'Degree_Centrality')\n",
        "print(node_min,min)\n",
        "print(node_max,max)\n",
        "degree_cent_min_max = {'Min Degree Node':str(node_min),'Value C1':min,'Max Degree Node':str(node_max),'Value C2':max}"
      ],
      "metadata": {
        "colab": {
          "base_uri": "https://localhost:8080/"
        },
        "id": "96uO1EyMSyLG",
        "outputId": "e4e8443e-ca89-48e4-81e6-5d23a9768182"
      },
      "execution_count": null,
      "outputs": [
        {
          "output_type": "stream",
          "name": "stdout",
          "text": [
            "0 0.4\n",
            "1 1.0\n"
          ]
        }
      ]
    },
    {
      "cell_type": "code",
      "source": [
        "node_min,min = find_node_min_centarlity(ddf,'Closeness_Centrality')\n",
        "node_max,max = find_node_max_centarlity(ddf,'Closeness_Centrality')\n",
        "print(node_min,min)\n",
        "print(node_max,max)\n",
        "closeness_cent_min_max = {'Min Degree Node':str(node_min),'Value C1':min,'Max Degree Node':str(node_max),'Value C2':max}"
      ],
      "metadata": {
        "colab": {
          "base_uri": "https://localhost:8080/"
        },
        "id": "du6MIdNXS0j3",
        "outputId": "ef8ab89a-a23d-450c-86a9-2fce52eb7379"
      },
      "execution_count": null,
      "outputs": [
        {
          "output_type": "stream",
          "name": "stdout",
          "text": [
            "0 0.33\n",
            "1 0.62\n"
          ]
        }
      ]
    },
    {
      "cell_type": "code",
      "source": [
        "node_min,min = find_node_min_centarlity(ddf,'Betweeness_Centrality')\n",
        "node_max,max = find_node_max_centarlity(ddf,'Betweeness_Centrality')\n",
        "print(node_min,min)\n",
        "print(node_max,max)\n",
        "betweeness_cent_min_max = {'Min Degree Node':str(node_min),'Value C1':min,'Max Degree Node':str(node_max),'Value C2':max}"
      ],
      "metadata": {
        "colab": {
          "base_uri": "https://localhost:8080/"
        },
        "id": "jUFuQCalS2oB",
        "outputId": "762210f4-964f-4cc4-b5ea-141b7a4902de"
      },
      "execution_count": null,
      "outputs": [
        {
          "output_type": "stream",
          "name": "stdout",
          "text": [
            "0 0.33\n",
            "1 0.62\n"
          ]
        }
      ]
    },
    {
      "cell_type": "code",
      "source": [
        "'''\n",
        "node_min,min = find_node_min_centarlity(ddf,'Eigen_Vector_Centrality')\n",
        "node_max,max = find_node_max_centarlity(ddf,'Eigen_Vector_Centrality')\n",
        "print(node_min,min)\n",
        "print(node_max,max)\n",
        "eigen_vector_cent_min_max = {'Min Degree Node':str(node_min),'Value C1':min,'Max Degree Node':str(node_max),'Value C2':max}\n",
        "'''"
      ],
      "metadata": {
        "colab": {
          "base_uri": "https://localhost:8080/",
          "height": 70
        },
        "id": "BFVbagPGS4Vg",
        "outputId": "b591c58c-850d-401b-a4e1-c74ba4e85880"
      },
      "execution_count": null,
      "outputs": [
        {
          "output_type": "execute_result",
          "data": {
            "text/plain": [
              "\"\\nnode_min,min = find_node_min_centarlity(ddf,'Eigen_Vector_Centrality')\\nnode_max,max = find_node_max_centarlity(ddf,'Eigen_Vector_Centrality')\\nprint(node_min,min)\\nprint(node_max,max)\\neigen_vector_cent_min_max = {'Min Degree Node':str(node_min),'Value C1':min,'Max Degree Node':str(node_max),'Value C2':max}\\n\""
            ],
            "application/vnd.google.colaboratory.intrinsic+json": {
              "type": "string"
            }
          },
          "metadata": {},
          "execution_count": 37
        }
      ]
    },
    {
      "cell_type": "code",
      "source": [
        "ddf_min_max = pd.DataFrame(columns=['Min Degree Node','Value C1','Max Degree Node','Value C2'])\n",
        "\n",
        "ddf_min_max"
      ],
      "metadata": {
        "colab": {
          "base_uri": "https://localhost:8080/",
          "height": 49
        },
        "id": "7UKD-h-PS6G9",
        "outputId": "24c8d128-f003-450a-8fee-981d0ef1a3b6"
      },
      "execution_count": null,
      "outputs": [
        {
          "output_type": "execute_result",
          "data": {
            "text/plain": [
              "Empty DataFrame\n",
              "Columns: [Min Degree Node, Value C1, Max Degree Node, Value C2]\n",
              "Index: []"
            ],
            "text/html": [
              "\n",
              "  <div id=\"df-b23011eb-bf8c-46c5-aafb-8caf0f25108c\">\n",
              "    <div class=\"colab-df-container\">\n",
              "      <div>\n",
              "<style scoped>\n",
              "    .dataframe tbody tr th:only-of-type {\n",
              "        vertical-align: middle;\n",
              "    }\n",
              "\n",
              "    .dataframe tbody tr th {\n",
              "        vertical-align: top;\n",
              "    }\n",
              "\n",
              "    .dataframe thead th {\n",
              "        text-align: right;\n",
              "    }\n",
              "</style>\n",
              "<table border=\"1\" class=\"dataframe\">\n",
              "  <thead>\n",
              "    <tr style=\"text-align: right;\">\n",
              "      <th></th>\n",
              "      <th>Min Degree Node</th>\n",
              "      <th>Value C1</th>\n",
              "      <th>Max Degree Node</th>\n",
              "      <th>Value C2</th>\n",
              "    </tr>\n",
              "  </thead>\n",
              "  <tbody>\n",
              "  </tbody>\n",
              "</table>\n",
              "</div>\n",
              "      <button class=\"colab-df-convert\" onclick=\"convertToInteractive('df-b23011eb-bf8c-46c5-aafb-8caf0f25108c')\"\n",
              "              title=\"Convert this dataframe to an interactive table.\"\n",
              "              style=\"display:none;\">\n",
              "        \n",
              "  <svg xmlns=\"http://www.w3.org/2000/svg\" height=\"24px\"viewBox=\"0 0 24 24\"\n",
              "       width=\"24px\">\n",
              "    <path d=\"M0 0h24v24H0V0z\" fill=\"none\"/>\n",
              "    <path d=\"M18.56 5.44l.94 2.06.94-2.06 2.06-.94-2.06-.94-.94-2.06-.94 2.06-2.06.94zm-11 1L8.5 8.5l.94-2.06 2.06-.94-2.06-.94L8.5 2.5l-.94 2.06-2.06.94zm10 10l.94 2.06.94-2.06 2.06-.94-2.06-.94-.94-2.06-.94 2.06-2.06.94z\"/><path d=\"M17.41 7.96l-1.37-1.37c-.4-.4-.92-.59-1.43-.59-.52 0-1.04.2-1.43.59L10.3 9.45l-7.72 7.72c-.78.78-.78 2.05 0 2.83L4 21.41c.39.39.9.59 1.41.59.51 0 1.02-.2 1.41-.59l7.78-7.78 2.81-2.81c.8-.78.8-2.07 0-2.86zM5.41 20L4 18.59l7.72-7.72 1.47 1.35L5.41 20z\"/>\n",
              "  </svg>\n",
              "      </button>\n",
              "      \n",
              "  <style>\n",
              "    .colab-df-container {\n",
              "      display:flex;\n",
              "      flex-wrap:wrap;\n",
              "      gap: 12px;\n",
              "    }\n",
              "\n",
              "    .colab-df-convert {\n",
              "      background-color: #E8F0FE;\n",
              "      border: none;\n",
              "      border-radius: 50%;\n",
              "      cursor: pointer;\n",
              "      display: none;\n",
              "      fill: #1967D2;\n",
              "      height: 32px;\n",
              "      padding: 0 0 0 0;\n",
              "      width: 32px;\n",
              "    }\n",
              "\n",
              "    .colab-df-convert:hover {\n",
              "      background-color: #E2EBFA;\n",
              "      box-shadow: 0px 1px 2px rgba(60, 64, 67, 0.3), 0px 1px 3px 1px rgba(60, 64, 67, 0.15);\n",
              "      fill: #174EA6;\n",
              "    }\n",
              "\n",
              "    [theme=dark] .colab-df-convert {\n",
              "      background-color: #3B4455;\n",
              "      fill: #D2E3FC;\n",
              "    }\n",
              "\n",
              "    [theme=dark] .colab-df-convert:hover {\n",
              "      background-color: #434B5C;\n",
              "      box-shadow: 0px 1px 3px 1px rgba(0, 0, 0, 0.15);\n",
              "      filter: drop-shadow(0px 1px 2px rgba(0, 0, 0, 0.3));\n",
              "      fill: #FFFFFF;\n",
              "    }\n",
              "  </style>\n",
              "\n",
              "      <script>\n",
              "        const buttonEl =\n",
              "          document.querySelector('#df-b23011eb-bf8c-46c5-aafb-8caf0f25108c button.colab-df-convert');\n",
              "        buttonEl.style.display =\n",
              "          google.colab.kernel.accessAllowed ? 'block' : 'none';\n",
              "\n",
              "        async function convertToInteractive(key) {\n",
              "          const element = document.querySelector('#df-b23011eb-bf8c-46c5-aafb-8caf0f25108c');\n",
              "          const dataTable =\n",
              "            await google.colab.kernel.invokeFunction('convertToInteractive',\n",
              "                                                     [key], {});\n",
              "          if (!dataTable) return;\n",
              "\n",
              "          const docLinkHtml = 'Like what you see? Visit the ' +\n",
              "            '<a target=\"_blank\" href=https://colab.research.google.com/notebooks/data_table.ipynb>data table notebook</a>'\n",
              "            + ' to learn more about interactive tables.';\n",
              "          element.innerHTML = '';\n",
              "          dataTable['output_type'] = 'display_data';\n",
              "          await google.colab.output.renderOutput(dataTable, element);\n",
              "          const docLink = document.createElement('div');\n",
              "          docLink.innerHTML = docLinkHtml;\n",
              "          element.appendChild(docLink);\n",
              "        }\n",
              "      </script>\n",
              "    </div>\n",
              "  </div>\n",
              "  "
            ]
          },
          "metadata": {},
          "execution_count": 38
        }
      ]
    },
    {
      "cell_type": "markdown",
      "source": [
        "\tMin Degree Node\tValue C1\tMax Degree Node\tValue C2\n"
      ],
      "metadata": {
        "id": "52GpbkxnTAw8"
      }
    },
    {
      "cell_type": "code",
      "source": [
        "ddf_min_max = ddf_min_max.append(pd.Series(degree_cent_min_max,index = ddf_min_max.columns,name = 'Degree Centrality'))\n",
        "ddf_min_max = ddf_min_max.append(pd.Series(closeness_cent_min_max,index = ddf_min_max.columns,name = 'Closeness Centrality'))\n",
        "ddf_min_max = ddf_min_max.append(pd.Series(betweeness_cent_min_max,index = ddf_min_max.columns,name = 'Betweeness Centrality'))\n",
        "#ddf_min_max = ddf_min_max.append(pd.Series(eigen_vector_cent_min_max,index = ddf_min_max.columns,name = 'Eigen Vector Centrality'))\n",
        "ddf_min_max"
      ],
      "metadata": {
        "colab": {
          "base_uri": "https://localhost:8080/",
          "height": 267
        },
        "id": "bghBTwyDS74W",
        "outputId": "75c7e339-8e7d-40da-e372-9956ebd0ebf4"
      },
      "execution_count": null,
      "outputs": [
        {
          "output_type": "stream",
          "name": "stderr",
          "text": [
            "<ipython-input-39-ee76da975917>:1: FutureWarning: The frame.append method is deprecated and will be removed from pandas in a future version. Use pandas.concat instead.\n",
            "  ddf_min_max = ddf_min_max.append(pd.Series(degree_cent_min_max,index = ddf_min_max.columns,name = 'Degree Centrality'))\n",
            "<ipython-input-39-ee76da975917>:2: FutureWarning: The frame.append method is deprecated and will be removed from pandas in a future version. Use pandas.concat instead.\n",
            "  ddf_min_max = ddf_min_max.append(pd.Series(closeness_cent_min_max,index = ddf_min_max.columns,name = 'Closeness Centrality'))\n",
            "<ipython-input-39-ee76da975917>:3: FutureWarning: The frame.append method is deprecated and will be removed from pandas in a future version. Use pandas.concat instead.\n",
            "  ddf_min_max = ddf_min_max.append(pd.Series(betweeness_cent_min_max,index = ddf_min_max.columns,name = 'Betweeness Centrality'))\n"
          ]
        },
        {
          "output_type": "execute_result",
          "data": {
            "text/plain": [
              "                      Min Degree Node  Value C1 Max Degree Node  Value C2\n",
              "Degree Centrality                   0      0.40               1      1.00\n",
              "Closeness Centrality                0      0.33               1      0.62\n",
              "Betweeness Centrality               0      0.33               1      0.62"
            ],
            "text/html": [
              "\n",
              "  <div id=\"df-abc1a21a-04cf-4551-8310-92379e28f6dc\">\n",
              "    <div class=\"colab-df-container\">\n",
              "      <div>\n",
              "<style scoped>\n",
              "    .dataframe tbody tr th:only-of-type {\n",
              "        vertical-align: middle;\n",
              "    }\n",
              "\n",
              "    .dataframe tbody tr th {\n",
              "        vertical-align: top;\n",
              "    }\n",
              "\n",
              "    .dataframe thead th {\n",
              "        text-align: right;\n",
              "    }\n",
              "</style>\n",
              "<table border=\"1\" class=\"dataframe\">\n",
              "  <thead>\n",
              "    <tr style=\"text-align: right;\">\n",
              "      <th></th>\n",
              "      <th>Min Degree Node</th>\n",
              "      <th>Value C1</th>\n",
              "      <th>Max Degree Node</th>\n",
              "      <th>Value C2</th>\n",
              "    </tr>\n",
              "  </thead>\n",
              "  <tbody>\n",
              "    <tr>\n",
              "      <th>Degree Centrality</th>\n",
              "      <td>0</td>\n",
              "      <td>0.40</td>\n",
              "      <td>1</td>\n",
              "      <td>1.00</td>\n",
              "    </tr>\n",
              "    <tr>\n",
              "      <th>Closeness Centrality</th>\n",
              "      <td>0</td>\n",
              "      <td>0.33</td>\n",
              "      <td>1</td>\n",
              "      <td>0.62</td>\n",
              "    </tr>\n",
              "    <tr>\n",
              "      <th>Betweeness Centrality</th>\n",
              "      <td>0</td>\n",
              "      <td>0.33</td>\n",
              "      <td>1</td>\n",
              "      <td>0.62</td>\n",
              "    </tr>\n",
              "  </tbody>\n",
              "</table>\n",
              "</div>\n",
              "      <button class=\"colab-df-convert\" onclick=\"convertToInteractive('df-abc1a21a-04cf-4551-8310-92379e28f6dc')\"\n",
              "              title=\"Convert this dataframe to an interactive table.\"\n",
              "              style=\"display:none;\">\n",
              "        \n",
              "  <svg xmlns=\"http://www.w3.org/2000/svg\" height=\"24px\"viewBox=\"0 0 24 24\"\n",
              "       width=\"24px\">\n",
              "    <path d=\"M0 0h24v24H0V0z\" fill=\"none\"/>\n",
              "    <path d=\"M18.56 5.44l.94 2.06.94-2.06 2.06-.94-2.06-.94-.94-2.06-.94 2.06-2.06.94zm-11 1L8.5 8.5l.94-2.06 2.06-.94-2.06-.94L8.5 2.5l-.94 2.06-2.06.94zm10 10l.94 2.06.94-2.06 2.06-.94-2.06-.94-.94-2.06-.94 2.06-2.06.94z\"/><path d=\"M17.41 7.96l-1.37-1.37c-.4-.4-.92-.59-1.43-.59-.52 0-1.04.2-1.43.59L10.3 9.45l-7.72 7.72c-.78.78-.78 2.05 0 2.83L4 21.41c.39.39.9.59 1.41.59.51 0 1.02-.2 1.41-.59l7.78-7.78 2.81-2.81c.8-.78.8-2.07 0-2.86zM5.41 20L4 18.59l7.72-7.72 1.47 1.35L5.41 20z\"/>\n",
              "  </svg>\n",
              "      </button>\n",
              "      \n",
              "  <style>\n",
              "    .colab-df-container {\n",
              "      display:flex;\n",
              "      flex-wrap:wrap;\n",
              "      gap: 12px;\n",
              "    }\n",
              "\n",
              "    .colab-df-convert {\n",
              "      background-color: #E8F0FE;\n",
              "      border: none;\n",
              "      border-radius: 50%;\n",
              "      cursor: pointer;\n",
              "      display: none;\n",
              "      fill: #1967D2;\n",
              "      height: 32px;\n",
              "      padding: 0 0 0 0;\n",
              "      width: 32px;\n",
              "    }\n",
              "\n",
              "    .colab-df-convert:hover {\n",
              "      background-color: #E2EBFA;\n",
              "      box-shadow: 0px 1px 2px rgba(60, 64, 67, 0.3), 0px 1px 3px 1px rgba(60, 64, 67, 0.15);\n",
              "      fill: #174EA6;\n",
              "    }\n",
              "\n",
              "    [theme=dark] .colab-df-convert {\n",
              "      background-color: #3B4455;\n",
              "      fill: #D2E3FC;\n",
              "    }\n",
              "\n",
              "    [theme=dark] .colab-df-convert:hover {\n",
              "      background-color: #434B5C;\n",
              "      box-shadow: 0px 1px 3px 1px rgba(0, 0, 0, 0.15);\n",
              "      filter: drop-shadow(0px 1px 2px rgba(0, 0, 0, 0.3));\n",
              "      fill: #FFFFFF;\n",
              "    }\n",
              "  </style>\n",
              "\n",
              "      <script>\n",
              "        const buttonEl =\n",
              "          document.querySelector('#df-abc1a21a-04cf-4551-8310-92379e28f6dc button.colab-df-convert');\n",
              "        buttonEl.style.display =\n",
              "          google.colab.kernel.accessAllowed ? 'block' : 'none';\n",
              "\n",
              "        async function convertToInteractive(key) {\n",
              "          const element = document.querySelector('#df-abc1a21a-04cf-4551-8310-92379e28f6dc');\n",
              "          const dataTable =\n",
              "            await google.colab.kernel.invokeFunction('convertToInteractive',\n",
              "                                                     [key], {});\n",
              "          if (!dataTable) return;\n",
              "\n",
              "          const docLinkHtml = 'Like what you see? Visit the ' +\n",
              "            '<a target=\"_blank\" href=https://colab.research.google.com/notebooks/data_table.ipynb>data table notebook</a>'\n",
              "            + ' to learn more about interactive tables.';\n",
              "          element.innerHTML = '';\n",
              "          dataTable['output_type'] = 'display_data';\n",
              "          await google.colab.output.renderOutput(dataTable, element);\n",
              "          const docLink = document.createElement('div');\n",
              "          docLink.innerHTML = docLinkHtml;\n",
              "          element.appendChild(docLink);\n",
              "        }\n",
              "      </script>\n",
              "    </div>\n",
              "  </div>\n",
              "  "
            ]
          },
          "metadata": {},
          "execution_count": 39
        }
      ]
    },
    {
      "cell_type": "code",
      "source": [],
      "metadata": {
        "id": "eNSeYvreTCsW"
      },
      "execution_count": null,
      "outputs": []
    }
  ]
}